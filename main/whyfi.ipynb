{
 "cells": [
  {
   "cell_type": "markdown",
   "metadata": {},
   "source": [
    "라이브러리"
   ]
  },
  {
   "cell_type": "code",
   "execution_count": 1,
   "metadata": {},
   "outputs": [],
   "source": [
    "import os\n",
    "import re\n",
    "import torch\n",
    "import pandas as pd\n",
    "import numpy as np"
   ]
  },
  {
   "cell_type": "code",
   "execution_count": 2,
   "metadata": {},
   "outputs": [
    {
     "data": {
      "text/plain": [
       "True"
      ]
     },
     "execution_count": 2,
     "metadata": {},
     "output_type": "execute_result"
    }
   ],
   "source": [
    "from dotenv import load_dotenv\n",
    "load_dotenv()"
   ]
  },
  {
   "cell_type": "markdown",
   "metadata": {},
   "source": [
    "데이터 준비 및 정제"
   ]
  },
  {
   "cell_type": "code",
   "execution_count": 3,
   "metadata": {},
   "outputs": [
    {
     "data": {
      "text/html": [
       "<div>\n",
       "<style scoped>\n",
       "    .dataframe tbody tr th:only-of-type {\n",
       "        vertical-align: middle;\n",
       "    }\n",
       "\n",
       "    .dataframe tbody tr th {\n",
       "        vertical-align: top;\n",
       "    }\n",
       "\n",
       "    .dataframe thead th {\n",
       "        text-align: right;\n",
       "    }\n",
       "</style>\n",
       "<table border=\"1\" class=\"dataframe\">\n",
       "  <thead>\n",
       "    <tr style=\"text-align: right;\">\n",
       "      <th></th>\n",
       "      <th>Unnamed: 0</th>\n",
       "      <th>Word</th>\n",
       "      <th>Content</th>\n",
       "    </tr>\n",
       "  </thead>\n",
       "  <tbody>\n",
       "    <tr>\n",
       "      <th>0</th>\n",
       "      <td>0</td>\n",
       "      <td>가계부실위험지수(HDRI)</td>\n",
       "      <td>\\n가구의 소득 흐름은 물론 금융 및 실물 자산까지 종합적으로 고려하여 가계부채의\\...</td>\n",
       "    </tr>\n",
       "    <tr>\n",
       "      <th>1</th>\n",
       "      <td>1</td>\n",
       "      <td>가계수지</td>\n",
       "      <td>\\n가정에서 일정 기간의 수입(명목소득)과 지출을 비교해서 남았는지 모자랐는지를\\n...</td>\n",
       "    </tr>\n",
       "    <tr>\n",
       "      <th>2</th>\n",
       "      <td>2</td>\n",
       "      <td>가계순저축률</td>\n",
       "      <td>\\n일반적으로 저축률은 저축액을 처분가능소득으로 나눈 비율을 말한다. 마찬가지로\\n...</td>\n",
       "    </tr>\n",
       "    <tr>\n",
       "      <th>3</th>\n",
       "      <td>3</td>\n",
       "      <td>가계신용통계</td>\n",
       "      <td>\\n가계신용통계는 가계부문에 대한 신용공급 규모를 나타내는 통계이다. 가계신용은\\n...</td>\n",
       "    </tr>\n",
       "    <tr>\n",
       "      <th>4</th>\n",
       "      <td>4</td>\n",
       "      <td>가계처분가능소득</td>\n",
       "      <td>\\n가계처분가능소득(PDI; Personal Disposable Income)은 가...</td>\n",
       "    </tr>\n",
       "  </tbody>\n",
       "</table>\n",
       "</div>"
      ],
      "text/plain": [
       "   Unnamed: 0            Word  \\\n",
       "0           0  가계부실위험지수(HDRI)   \n",
       "1           1            가계수지   \n",
       "2           2          가계순저축률   \n",
       "3           3          가계신용통계   \n",
       "4           4        가계처분가능소득   \n",
       "\n",
       "                                             Content  \n",
       "0  \\n가구의 소득 흐름은 물론 금융 및 실물 자산까지 종합적으로 고려하여 가계부채의\\...  \n",
       "1  \\n가정에서 일정 기간의 수입(명목소득)과 지출을 비교해서 남았는지 모자랐는지를\\n...  \n",
       "2  \\n일반적으로 저축률은 저축액을 처분가능소득으로 나눈 비율을 말한다. 마찬가지로\\n...  \n",
       "3  \\n가계신용통계는 가계부문에 대한 신용공급 규모를 나타내는 통계이다. 가계신용은\\n...  \n",
       "4  \\n가계처분가능소득(PDI; Personal Disposable Income)은 가...  "
      ]
     },
     "execution_count": 3,
     "metadata": {},
     "output_type": "execute_result"
    }
   ],
   "source": [
    "# word_dict.csv load\n",
    "df = pd.read_csv(\"./word_dict.csv\")\n",
    "df.head()"
   ]
  },
  {
   "cell_type": "code",
   "execution_count": 4,
   "metadata": {},
   "outputs": [
    {
     "data": {
      "text/html": [
       "<div>\n",
       "<style scoped>\n",
       "    .dataframe tbody tr th:only-of-type {\n",
       "        vertical-align: middle;\n",
       "    }\n",
       "\n",
       "    .dataframe tbody tr th {\n",
       "        vertical-align: top;\n",
       "    }\n",
       "\n",
       "    .dataframe thead th {\n",
       "        text-align: right;\n",
       "    }\n",
       "</style>\n",
       "<table border=\"1\" class=\"dataframe\">\n",
       "  <thead>\n",
       "    <tr style=\"text-align: right;\">\n",
       "      <th></th>\n",
       "      <th>Word</th>\n",
       "      <th>Content</th>\n",
       "    </tr>\n",
       "  </thead>\n",
       "  <tbody>\n",
       "    <tr>\n",
       "      <th>0</th>\n",
       "      <td>가계부실위험지수(HDRI)</td>\n",
       "      <td>\\n가구의 소득 흐름은 물론 금융 및 실물 자산까지 종합적으로 고려하여 가계부채의\\...</td>\n",
       "    </tr>\n",
       "    <tr>\n",
       "      <th>1</th>\n",
       "      <td>가계수지</td>\n",
       "      <td>\\n가정에서 일정 기간의 수입(명목소득)과 지출을 비교해서 남았는지 모자랐는지를\\n...</td>\n",
       "    </tr>\n",
       "    <tr>\n",
       "      <th>2</th>\n",
       "      <td>가계순저축률</td>\n",
       "      <td>\\n일반적으로 저축률은 저축액을 처분가능소득으로 나눈 비율을 말한다. 마찬가지로\\n...</td>\n",
       "    </tr>\n",
       "    <tr>\n",
       "      <th>3</th>\n",
       "      <td>가계신용통계</td>\n",
       "      <td>\\n가계신용통계는 가계부문에 대한 신용공급 규모를 나타내는 통계이다. 가계신용은\\n...</td>\n",
       "    </tr>\n",
       "    <tr>\n",
       "      <th>4</th>\n",
       "      <td>가계처분가능소득</td>\n",
       "      <td>\\n가계처분가능소득(PDI; Personal Disposable Income)은 가...</td>\n",
       "    </tr>\n",
       "  </tbody>\n",
       "</table>\n",
       "</div>"
      ],
      "text/plain": [
       "             Word                                            Content\n",
       "0  가계부실위험지수(HDRI)  \\n가구의 소득 흐름은 물론 금융 및 실물 자산까지 종합적으로 고려하여 가계부채의\\...\n",
       "1            가계수지  \\n가정에서 일정 기간의 수입(명목소득)과 지출을 비교해서 남았는지 모자랐는지를\\n...\n",
       "2          가계순저축률  \\n일반적으로 저축률은 저축액을 처분가능소득으로 나눈 비율을 말한다. 마찬가지로\\n...\n",
       "3          가계신용통계  \\n가계신용통계는 가계부문에 대한 신용공급 규모를 나타내는 통계이다. 가계신용은\\n...\n",
       "4        가계처분가능소득  \\n가계처분가능소득(PDI; Personal Disposable Income)은 가..."
      ]
     },
     "execution_count": 4,
     "metadata": {},
     "output_type": "execute_result"
    }
   ],
   "source": [
    "# drop \"Unnamed:0\"\n",
    "df = df.drop('Unnamed: 0', axis=1)\n",
    "df.head()"
   ]
  },
  {
   "cell_type": "code",
   "execution_count": 5,
   "metadata": {},
   "outputs": [],
   "source": [
    "# clean text\n",
    "def clean_text(text):\n",
    "    text = re.sub(r\"\\n+\", \" \", text)  # 연속된 줄바꿈은 공백으로 대체\n",
    "    text = re.sub(r\"-{2,}\",\" \", text)  # ----- 제거\n",
    "    text = re.sub(r\"\\s{2,}\", \" \", text)  # 중복된 공백 제거\n",
    "    text = text.strip()  # 양쪽 공백 제거\n",
    "    return text\n",
    "\n",
    "df['Content'] = df['Content'].apply(clean_text)\n",
    "df.to_csv(\"cleaned_word_dict.csv\", index=False, encoding=\"utf-8-sig\")"
   ]
  },
  {
   "cell_type": "markdown",
   "metadata": {},
   "source": [
    "csv 파일 로드"
   ]
  },
  {
   "cell_type": "code",
   "execution_count": 6,
   "metadata": {},
   "outputs": [
    {
     "data": {
      "text/html": [
       "<div>\n",
       "<style scoped>\n",
       "    .dataframe tbody tr th:only-of-type {\n",
       "        vertical-align: middle;\n",
       "    }\n",
       "\n",
       "    .dataframe tbody tr th {\n",
       "        vertical-align: top;\n",
       "    }\n",
       "\n",
       "    .dataframe thead th {\n",
       "        text-align: right;\n",
       "    }\n",
       "</style>\n",
       "<table border=\"1\" class=\"dataframe\">\n",
       "  <thead>\n",
       "    <tr style=\"text-align: right;\">\n",
       "      <th></th>\n",
       "      <th>Word</th>\n",
       "      <th>Content</th>\n",
       "    </tr>\n",
       "  </thead>\n",
       "  <tbody>\n",
       "    <tr>\n",
       "      <th>0</th>\n",
       "      <td>가계부실위험지수(HDRI)</td>\n",
       "      <td>가구의 소득 흐름은 물론 금융 및 실물 자산까지 종합적으로 고려하여 가계부채의 부실...</td>\n",
       "    </tr>\n",
       "    <tr>\n",
       "      <th>1</th>\n",
       "      <td>가계수지</td>\n",
       "      <td>가정에서 일정 기간의 수입(명목소득)과 지출을 비교해서 남았는지 모자랐는지를 표시한...</td>\n",
       "    </tr>\n",
       "    <tr>\n",
       "      <th>2</th>\n",
       "      <td>가계순저축률</td>\n",
       "      <td>일반적으로 저축률은 저축액을 처분가능소득으로 나눈 비율을 말한다. 마찬가지로 가계순...</td>\n",
       "    </tr>\n",
       "    <tr>\n",
       "      <th>3</th>\n",
       "      <td>가계신용통계</td>\n",
       "      <td>가계신용통계는 가계부문에 대한 신용공급 규모를 나타내는 통계이다. 가계신용은 금융기...</td>\n",
       "    </tr>\n",
       "    <tr>\n",
       "      <th>4</th>\n",
       "      <td>가계처분가능소득</td>\n",
       "      <td>가계처분가능소득(PDI; Personal Disposable Income)은 가계가...</td>\n",
       "    </tr>\n",
       "  </tbody>\n",
       "</table>\n",
       "</div>"
      ],
      "text/plain": [
       "             Word                                            Content\n",
       "0  가계부실위험지수(HDRI)  가구의 소득 흐름은 물론 금융 및 실물 자산까지 종합적으로 고려하여 가계부채의 부실...\n",
       "1            가계수지  가정에서 일정 기간의 수입(명목소득)과 지출을 비교해서 남았는지 모자랐는지를 표시한...\n",
       "2          가계순저축률  일반적으로 저축률은 저축액을 처분가능소득으로 나눈 비율을 말한다. 마찬가지로 가계순...\n",
       "3          가계신용통계  가계신용통계는 가계부문에 대한 신용공급 규모를 나타내는 통계이다. 가계신용은 금융기...\n",
       "4        가계처분가능소득  가계처분가능소득(PDI; Personal Disposable Income)은 가계가..."
      ]
     },
     "execution_count": 6,
     "metadata": {},
     "output_type": "execute_result"
    }
   ],
   "source": [
    "# cleaned_word_dict.csv 파일 확인\n",
    "df = pd.read_csv(\"./cleaned_word_dict.csv\")\n",
    "df.head()"
   ]
  },
  {
   "cell_type": "code",
   "execution_count": 3,
   "metadata": {},
   "outputs": [
    {
     "name": "stdout",
     "output_type": "stream",
     "text": [
      "문서의 수: 700\n",
      "\n",
      "[페이지내용]\n",
      "﻿Word: 가상통화공개(ICO)\n",
      "Content: 가상통화(ICO; Initial Coin Offering) 공개는 주로 혁신적인 신생기업(startup)이 암호 화화폐(cryptocurrency) 또는 디지털 토큰(digital token, 일종의 투자증명)을 이용하여 자금을 조달할 수 있는 크라우드펀딩(crowd funding)의 한 방식이다. 가상통화공개 (ICO)에서 새로 발행된 암호화화폐는 법화(legal tender) 또는 비트코인 등 기존의 가상 통화와 교환되어 투자자에게 팔린다. 이 용어는 거래소에 상장하려는 기업이 투자자에게 자기 주식을 처음 공개적으로 매도하는 기업공개(IPO; Initial Public Offering)에서 연유 되었다고 볼 수 있다. 기업공개(IPO)에 참여한 투자자는 해당 기업의 소유권과 관련하여 주식을 획득한다. 반면 가상통화공개(ICO)에 참여한 투자자는 해당 신생기업의 코인 (coins) 또는 토큰을 얻는데, 이는 해당 기업이 제안한 프로\n",
      "\n",
      "[metadata]\n",
      "{'source': './cleaned_word_dict.csv', 'row': 10}\n",
      "\n"
     ]
    }
   ],
   "source": [
    "from langchain_community.document_loaders.csv_loader import CSVLoader\n",
    "\n",
    "loader = CSVLoader(file_path=\"./cleaned_word_dict.csv\")\n",
    "docs = loader.load()\n",
    "print(f\"문서의 수: {len(docs)}\")\n",
    "\n",
    "print(f\"\\n[페이지내용]\\n{docs[10].page_content[:500]}\")\n",
    "print(f\"\\n[metadata]\\n{docs[10].metadata}\\n\")"
   ]
  },
  {
   "cell_type": "markdown",
   "metadata": {},
   "source": [
    "데이터 분할"
   ]
  },
  {
   "cell_type": "code",
   "execution_count": 4,
   "metadata": {},
   "outputs": [
    {
     "name": "stdout",
     "output_type": "stream",
     "text": [
      "청크 수: 721\n"
     ]
    }
   ],
   "source": [
    "from langchain_text_splitters import RecursiveCharacterTextSplitter\n",
    "text_splitter = RecursiveCharacterTextSplitter(chunk_size=1000, chunk_overlap=50)\n",
    "split_documents = text_splitter.split_documents(docs)\n",
    "print(f\"청크 수: {len(split_documents)}\")"
   ]
  },
  {
   "cell_type": "markdown",
   "metadata": {},
   "source": [
    "임베딩 & 벡터스토어 생성"
   ]
  },
  {
   "cell_type": "code",
   "execution_count": 5,
   "metadata": {},
   "outputs": [],
   "source": [
    "from langchain.vectorstores import FAISS\n",
    "from langchain.embeddings import HuggingFaceEmbeddings"
   ]
  },
  {
   "cell_type": "code",
   "execution_count": 13,
   "metadata": {},
   "outputs": [],
   "source": [
    "# generate FAISS VectorStore\n",
    "embedding_model = HuggingFaceEmbeddings(model_name=\"BAAI/bge-m3\")\n",
    "vectorstore = FAISS.from_documents(\n",
    "    documents=split_documents, embedding=embedding_model\n",
    ")\n",
    "\n",
    "vectorstore.save_local(\"faiss_index\")"
   ]
  },
  {
   "cell_type": "code",
   "execution_count": 6,
   "metadata": {},
   "outputs": [
    {
     "name": "stderr",
     "output_type": "stream",
     "text": [
      "C:\\Users\\lgpc\\AppData\\Local\\Temp\\ipykernel_11452\\1604933528.py:2: LangChainDeprecationWarning: The class `HuggingFaceEmbeddings` was deprecated in LangChain 0.2.2 and will be removed in 1.0. An updated version of the class exists in the :class:`~langchain-huggingface package and should be used instead. To use it run `pip install -U :class:`~langchain-huggingface` and import as `from :class:`~langchain_huggingface import HuggingFaceEmbeddings``.\n",
      "  embedding_model = HuggingFaceEmbeddings(model_name=\"BAAI/bge-m3\")\n"
     ]
    }
   ],
   "source": [
    "# load FAISS VectorStore\n",
    "embedding_model = HuggingFaceEmbeddings(model_name=\"BAAI/bge-m3\")\n",
    "vectorstore = FAISS.load_local(\"faiss_index\", embedding_model, allow_dangerous_deserialization=True)"
   ]
  },
  {
   "cell_type": "markdown",
   "metadata": {},
   "source": [
    "Retriever 생성 & LLM 모델 불러오기"
   ]
  },
  {
   "cell_type": "code",
   "execution_count": 7,
   "metadata": {},
   "outputs": [
    {
     "name": "stdout",
     "output_type": "stream",
     "text": [
      "The token has not been saved to the git credentials helper. Pass `add_to_git_credential=True` in this function directly or `--add-to-git-credential` if using via `huggingface-cli` if you want to set the git credential as well.\n",
      "Token is valid (permission: write).\n",
      "Your token has been saved to C:\\Users\\lgpc\\.cache\\huggingface\\token\n",
      "Login successful\n"
     ]
    }
   ],
   "source": [
    "from huggingface_hub import login\n",
    "hf_token = os.getenv(\"HUGGINGFACEHUB_API_TOKEN\")\n",
    "login(token=hf_token)"
   ]
  },
  {
   "cell_type": "code",
   "execution_count": 8,
   "metadata": {},
   "outputs": [
    {
     "name": "stderr",
     "output_type": "stream",
     "text": [
      "C:\\Users\\lgpc\\AppData\\Local\\Temp\\ipykernel_11452\\3925770001.py:24: LangChainDeprecationWarning: The class `HuggingFacePipeline` was deprecated in LangChain 0.0.37 and will be removed in 1.0. An updated version of the class exists in the :class:`~langchain-huggingface package and should be used instead. To use it run `pip install -U :class:`~langchain-huggingface` and import as `from :class:`~langchain_huggingface import HuggingFacePipeline``.\n",
      "  llm = HuggingFacePipeline(pipeline=pipe)\n"
     ]
    }
   ],
   "source": [
    "from transformers import AutoModelForCausalLM, AutoTokenizer\n",
    "from langchain.llms import HuggingFacePipeline, HuggingFaceHub\n",
    "\n",
    "# define retriever\n",
    "retriever = vectorstore.as_retriever(search_kwargs={\"k\":5})\n",
    "\n",
    "# load LLaMA\n",
    "model_name = \"meta-llama/Llama-3.2-1B\" \n",
    "tokenizer = AutoTokenizer.from_pretrained(model_name)\n",
    "model = AutoModelForCausalLM.from_pretrained(model_name)\n",
    "\n",
    "# generate Hugging Face Pipeline\n",
    "from transformers import pipeline\n",
    "pipe = pipeline(\n",
    "    \"text-generation\",\n",
    "    model=model,\n",
    "    tokenizer=tokenizer,\n",
    "    #max_length=1024,\n",
    "    max_new_tokens=300,\n",
    "    temperature=0.7,\n",
    "    top_p=0.9,\n",
    ")\n",
    "\n",
    "llm = HuggingFacePipeline(pipeline=pipe)"
   ]
  },
  {
   "cell_type": "code",
   "execution_count": 9,
   "metadata": {},
   "outputs": [],
   "source": [
    "template = \"\"\"\n",
    "You are a helpful assistant specialized in explaining financial terms.\n",
    "Use the context below to answer the query in simple terms, provide examples, and any related information.\n",
    "\n",
    "Context:\n",
    "{context}\n",
    "\n",
    "Question:\n",
    "{term}\n",
    "\n",
    "Answer:\n",
    "\"\"\""
   ]
  },
  {
   "cell_type": "code",
   "execution_count": 10,
   "metadata": {},
   "outputs": [],
   "source": [
    "from langchain.prompts import PromptTemplate\n",
    "from langchain_core.output_parsers import StrOutputParser\n",
    "from langchain_core.runnables import RunnablePassthrough\n",
    "from langchain.chains import RetrievalQA\n",
    "\n",
    "prompt = PromptTemplate(\n",
    "    input_variables=[\"context\", \"query\"], \n",
    "    template=template\n",
    ")\n",
    "\n",
    "# generate Chain\n",
    "chain = (\n",
    "    {\"context\":retriever, \"term\":RunnablePassthrough()}\n",
    "    | prompt\n",
    "    | llm \n",
    "    | StrOutputParser()\n",
    ")"
   ]
  },
  {
   "cell_type": "code",
   "execution_count": 11,
   "metadata": {},
   "outputs": [
    {
     "name": "stderr",
     "output_type": "stream",
     "text": [
      "Setting `pad_token_id` to `eos_token_id`:128001 for open-end generation.\n"
     ]
    },
    {
     "name": "stdout",
     "output_type": "stream",
     "text": [
      "\n",
      "You are a helpful assistant specialized in explaining financial terms.\n",
      "Use the context below to answer the query in simple terms, provide examples, and any related information.\n",
      "\n",
      "Context:\n",
      "[Document(id='fca64cb1-a35f-44dc-be08-a9a74da0b842', metadata={'source': './cleaned_word_dict.csv', 'row': 1}, page_content=\"\\ufeffWord: 가계수지\\nContent: 가정에서 일정 기간의 수입(명목소득)과 지출을 비교해서 남았는지 모자랐는지를 표시한 것을 가계수지(household's total income and expenditure)라 한다. 가계수지가 흑자를 냈다면 그 가정은 벌어들인 수입 일부만을 사용했다는 것을 의미하며, 적자를 냈다면 수입 외에 빚을 추가로 얻어 사용한 것이라고 보아야 한다. 우리나라는 통계청에 서 가계의 수입과 지출을 조사하여 국민의 소득수준 및 생활실태를 파악하기 위해 표본으로 선정된 가계에 가계부를 나누어 주고 한 달간의 소득과 지출을 기록하도록 한 다음 이를 토대로 가계수지 통계를 작성하여 발표하고 있다. 가계부의 소득항목에는 근로소득･사업소득･재산소득･이전소득 항목이 있고, 비용항목에는 식료품비･주거비･ 수도광열비･보건의료비･교육비 항목이 있다. \\n연관검색어 : 경상수지, 재정수지\"), Document(id='d340163b-16f8-45a7-a1ea-11eb8a73820e', metadata={'source': './cleaned_word_dict.csv', 'row': 3}, page_content='\\ufeffWord: 가계신용통계\\nContent: 가계신용통계는 가계부문에 대한 신용공급 규모를 나타내는 통계이다. 가계신용은 금융기관뿐 아니라 정부, 판매회사 등 기타기관이 가계에 제공한 대출과 외상구매 관련 신용을 모두 포괄하는 것으로 크게 가계대출과 판매신용으로 구분된다. 현재 가계신용통 계는 2002년 말 잔액부터 분기별로 제공되고 있다. 가계신용통계는 우리나라 가계부문의 부채 규모 및 변동 등을 파악하는 데 널리 활용되고 있다.'), Document(id='612485a5-c6cb-427f-9cef-16067748056f', metadata={'source': './cleaned_word_dict.csv', 'row': 93}, page_content='\\ufeffWord: 국제수지(BOP)\\nContent: 일정기간 동안 한 나라의 거주자와 비거주자 간에 발생한 경제적 거래에 따른 수입과 지급의 차이를 의미한다. 국제수지(BOP; Balance Of Payments)는 크게 경상수지, 자본수 지, 금융계정, 오차 및 누락 등 4개의 계정으로 구성되어 있다. 경상수지는 ① 상품 수출입의 결과인 상품수지, ② 운송, 여행, 건설 등 서비스거래의 결과인 서비스수지, ③ 급료 및 임금수지, 투자소득수지 등 본원소득수지, ④ 무상원조, 증여성 송금 등의 결과인 이전소득 수지로 구분된다. 자본수지는 자산 소유권의 무상이전 등 자본이전과 브랜드네임 등 비생산･비금융자산의 취득 및 처분의 결과로 계상된다. 금융계정은 직접투자, 증권투자, 파생금융상품, 기타투자 및 준비자산으로 구분된다. 오차 및 누락은 경상수지 및 자본수지 의 합계와 금융계정 금액이 같지 않을 경우 이를 조정하기 위한 항목으로 국제수지 작성에 이용되는 기초통계간 계상시점, 평가방법상의 차이 등에 기인한다. \\n연관검색어 : 경상수지, 국제수지표'), Document(id='43845f1a-3382-4613-9de7-7800edf34abf', metadata={'source': './cleaned_word_dict.csv', 'row': 444}, page_content='\\ufeffWord: 이전소득수지\\nContent: 이전소득수지는 국제수지표상 경상수지를 구성하는 항목 중의 하나로 거주자와 비거 주자 사이에 무상으로 주고받는 거래의 수지를 말한다. 이러한 거래에는 재외교포가 국내 친지에게 보내는 개인송금, 국외 자선단체의 기부금이나 구호물자, 국제기구 출연금 등이 포함된다. \\n연관검색어 : 경상수지, 국제수지(BOP)'), Document(id='b66b4c4c-b269-43a8-860f-5c932a384472', metadata={'source': './cleaned_word_dict.csv', 'row': 290}, page_content='\\ufeffWord: 상품수지\\nContent: 거주자와 비거주자 간의 상품 수출입 거래를 계상한 것으로, 경상수지의 한 부분이다. 수출이 수입보다 많으면 흑자, 수출보다 수입이 많으면 적자로 표시한다. 상품수지의 수출입은 관세청에서 통관기준으로 작성하는 무역수지의 수출입과 일치하지 않는 경우 가 많다. 이는 관세청에서는 상품이 우리나라의 관세선을 통과하면 수출입으로 계상하는 반면, 국제수지의 상품수지에서는 상품의 소유권이 이전되어야 수출입으로 간주하는 소유권이전(change of ownership) 기준을 따르기 때문이다. 또한 무역수지에서 수출은 FOB가격, 수입은 운임 및 보험이 포함되어 있는 CIF가격으로 평가하지만, 상품수지에서 는 수출과 수입 모두 FOB가격으로 평가한다는 차이점도 있다. \\n연관검색어 : 경상수지')]\n",
      "\n",
      "Question:\n",
      "가계수지\n",
      "\n",
      "Answer:\n",
      "가계수지는 우리나라에서 경제 활동을 수행하는 개인과 기업의 수입과 지출을 비교해서 남았는지 모자랐는지를 표시한 것을 가계수지(household's total income and expenditure)라 한다. 가계수지가 흑자를 냈다면 그 가정은 벌어들인 수입 일부만을 사용했다는 것을 의미하며, 적자를 냈다면 수입 외에 빚을 추가로 얻어 사용한 것이라고 보아야 한다. 우리나라에서 통계청에 서 가계의 수입과 지출을 조사하여 국민의 소득수준 및 생활실태를 파악하기 위해 표본으로 선정된 가계에 가계부를 나누어 주고 한 달간의 소득과 지출을 기록하도록 한 다음 이를 토대로 가계수지 통계를 작성하여 발표하고 있다. 가계부의 소득항목에는 근로소득･사업소득･재산소득･이전소득 항목이 있고, 비용항목에는 식료품비･주거비･ 수도광열비･보건의료비･교육비 항목이 있다.\n"
     ]
    }
   ],
   "source": [
    "term = \"가계수지\"\n",
    "response = chain.invoke(term)\n",
    "print(response)"
   ]
  },
  {
   "cell_type": "code",
   "execution_count": null,
   "metadata": {},
   "outputs": [],
   "source": []
  }
 ],
 "metadata": {
  "kernelspec": {
   "display_name": "langchain-kr-I_o576Y5-py3.11",
   "language": "python",
   "name": "python3"
  },
  "language_info": {
   "codemirror_mode": {
    "name": "ipython",
    "version": 3
   },
   "file_extension": ".py",
   "mimetype": "text/x-python",
   "name": "python",
   "nbconvert_exporter": "python",
   "pygments_lexer": "ipython3",
   "version": "3.11.9"
  }
 },
 "nbformat": 4,
 "nbformat_minor": 2
}
